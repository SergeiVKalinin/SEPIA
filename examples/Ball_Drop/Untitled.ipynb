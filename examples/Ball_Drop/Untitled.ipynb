{
 "cells": [
  {
   "cell_type": "code",
   "execution_count": 4,
   "metadata": {},
   "outputs": [],
   "source": [
    "import numpy as np\n",
    "import sepia.SepiaData as SepiaData"
   ]
  },
  {
   "cell_type": "code",
   "execution_count": 5,
   "metadata": {},
   "outputs": [],
   "source": [
    "m = 20\n",
    "n = 10\n",
    "x = np.concatenate([np.random.uniform(-1, 3, (m, 3)), 1 + np.random.choice(3,size=(m, 1))], axis=1)\n",
    "x2 = np.concatenate([np.random.uniform(-1, 3, (n, 3)), 1 + np.random.choice(3, size=(n, 1))], axis=1)\n",
    "t = np.concatenate([np.random.uniform(-1, 3, (m, 2)), 1 + np.random.choice(4, size=(m, 1))], axis=1)\n",
    "y = np.random.normal(size=(m, 50))\n",
    "y_ind = np.linspace(0, 1, 50)\n",
    "y2 = np.random.normal(size=(n, 20))\n",
    "y_ind2 = np.linspace(0, 1, 20)\n",
    "x_cat_ind = [0, 0, 0, 3]\n",
    "t_cat_ind = [0, 0, 4]\n",
    "\n",
    "data = SepiaData(x_sim=x, t_sim=t, x_cat_ind=x_cat_ind, t_cat_ind=t_cat_ind, y_sim=y, y_ind_sim=y_ind, x_obs=x2, y_obs=y2, y_ind_obs=y_ind2)"
   ]
  },
  {
   "cell_type": "code",
   "execution_count": 6,
   "metadata": {},
   "outputs": [
    {
     "data": {
      "text/plain": [
       "array([[ 0.27770287,  0.06252067,  0.58663991,  3.        ],\n",
       "       [-0.77668767,  2.47802459,  1.43940428,  1.        ],\n",
       "       [ 1.74127916, -0.25806431, -0.18110743,  1.        ],\n",
       "       [ 1.9495894 ,  2.47326309,  2.63590767,  1.        ],\n",
       "       [-0.97459138,  0.94343402,  0.63110341,  3.        ],\n",
       "       [ 0.71823648,  1.74432961,  0.72861239,  3.        ],\n",
       "       [ 0.40818136,  0.83741732, -0.58360877,  1.        ],\n",
       "       [ 0.4262525 , -0.99157264,  0.19091403,  2.        ],\n",
       "       [ 2.7859948 ,  1.96700655,  2.49536897,  1.        ],\n",
       "       [-0.90761876, -0.63269177,  1.21625444,  3.        ],\n",
       "       [-0.62253848,  1.1008266 ,  2.91115307,  3.        ],\n",
       "       [ 1.83464681, -0.59750897,  0.25645088,  1.        ],\n",
       "       [ 0.18802521, -0.30119941,  1.42946836,  3.        ],\n",
       "       [ 0.93242154,  0.01674286,  0.00510665,  2.        ],\n",
       "       [ 2.96395217, -0.68848101,  1.00020875,  3.        ],\n",
       "       [ 1.76958078,  0.32274183,  0.66119807,  1.        ],\n",
       "       [ 1.30412755,  0.34661   ,  2.53492659,  1.        ],\n",
       "       [ 2.47064735, -0.31476115,  0.93098029,  1.        ],\n",
       "       [ 2.5950856 , -0.50812775,  0.41843557,  2.        ],\n",
       "       [-0.43041365,  2.3391491 ,  2.22381831,  3.        ]])"
      ]
     },
     "execution_count": 6,
     "metadata": {},
     "output_type": "execute_result"
    }
   ],
   "source": [
    "x"
   ]
  },
  {
   "cell_type": "code",
   "execution_count": 7,
   "metadata": {},
   "outputs": [
    {
     "data": {
      "text/plain": [
       "array([[ 1.89351324,  0.2004143 , -0.86518618,  1.        ],\n",
       "       [-0.89739634,  1.02048433,  0.12637091,  3.        ],\n",
       "       [ 2.08976873,  1.97544896, -0.9842453 ,  3.        ],\n",
       "       [ 2.01643344,  1.43786532,  2.49015141,  3.        ],\n",
       "       [ 0.56071415,  0.02680246,  0.98197742,  3.        ],\n",
       "       [ 1.89251348, -0.11598755,  0.27737607,  3.        ],\n",
       "       [ 0.58869631, -0.81616667, -0.27958046,  1.        ],\n",
       "       [ 1.3086363 , -0.01994562,  1.37561031,  3.        ],\n",
       "       [-0.79690102,  2.67327294,  0.30168728,  3.        ],\n",
       "       [ 0.24070011,  1.34971653, -0.64360791,  1.        ]])"
      ]
     },
     "execution_count": 7,
     "metadata": {},
     "output_type": "execute_result"
    }
   ],
   "source": [
    "x2"
   ]
  },
  {
   "cell_type": "code",
   "execution_count": null,
   "metadata": {},
   "outputs": [],
   "source": []
  }
 ],
 "metadata": {
  "kernelspec": {
   "display_name": "Python 3",
   "language": "python",
   "name": "python3"
  },
  "language_info": {
   "codemirror_mode": {
    "name": "ipython",
    "version": 3
   },
   "file_extension": ".py",
   "mimetype": "text/x-python",
   "name": "python",
   "nbconvert_exporter": "python",
   "pygments_lexer": "ipython3",
   "version": "3.7.6"
  },
  "widgets": {
   "application/vnd.jupyter.widget-state+json": {
    "state": {},
    "version_major": 2,
    "version_minor": 0
   }
  }
 },
 "nbformat": 4,
 "nbformat_minor": 4
}
